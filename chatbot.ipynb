{
 "cells": [
  {
   "cell_type": "code",
   "execution_count": 1,
   "metadata": {},
   "outputs": [],
   "source": [
    "import openai\n",
    "\n",
    "class ChatGPT:\n",
    "    def __init__(self, api_key, role):\n",
    "        openai.api_key = api_key\n",
    "        self.dialogue = [{\"role\": \"system\", \"content\":role}]\n",
    "    \n",
    "    def ask(self, question):\n",
    "        self.dialogue.append({\"role\": \"user\", \"content\": question})\n",
    "        response = openai.Completion.create(\n",
    "            model = 'gpt-3.5-turbo',\n",
    "            messages = self.dialogue\n",
    "        )\n",
    "        a= {\"role\": \"system\", \"content\": response.choices[0].message.content}\n",
    "        self.dialogue.append(a)\n",
    "        return a\n",
    "\n",
    "#if __name__=='__main__':\n"
   ]
  },
  {
   "cell_type": "code",
   "execution_count": 2,
   "metadata": {},
   "outputs": [],
   "source": [
    "with open('api.key') as f:\n",
    "    api_key = f.read()\n",
    "chat_gpt = ChatGPT(api_key, \"I am a chatbot. I can answer your questions about the world.\")\n",
    "while (question := input('\\n> ') != 'X'):\n",
    "    answer  = chat_gpt.ask(question)\n",
    "    print(answer)"
   ]
  },
  {
   "cell_type": "code",
   "execution_count": null,
   "metadata": {},
   "outputs": [],
   "source": []
  }
 ],
 "metadata": {
  "kernelspec": {
   "display_name": ".venv",
   "language": "python",
   "name": "python3"
  },
  "language_info": {
   "codemirror_mode": {
    "name": "ipython",
    "version": 3
   },
   "file_extension": ".py",
   "mimetype": "text/x-python",
   "name": "python",
   "nbconvert_exporter": "python",
   "pygments_lexer": "ipython3",
   "version": "3.10.10"
  },
  "orig_nbformat": 4
 },
 "nbformat": 4,
 "nbformat_minor": 2
}
